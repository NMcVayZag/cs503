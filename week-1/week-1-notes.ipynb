{
 "cells": [
  {
   "cell_type": "markdown",
   "metadata": {},
   "source": [
    "## CS 503 Notes 1/6/25\n",
    "\n",
    "\n"
   ]
  },
  {
   "cell_type": "markdown",
   "metadata": {},
   "source": [
    "- Focused in learning about the layer that application software layer interacts with - the operating system interaction layer. The systems interface layer above the OS that interacts with application code \n",
    "- No midterms or finals just hw and quizes(5)\n",
    "- use orbstack"
   ]
  },
  {
   "cell_type": "markdown",
   "metadata": {},
   "source": [
    "- hardware(bare metal) -> operating system(linux) -> systems programming(our focus) -> application programming\n",
    "- c++ dominates most system programming cases, rust use is growing rapidly\n",
    "- we are learning c because c++ changes to rapidly(syntax) while c is stable and is the backbone of systems programming. Also anything you can do in c++ can be done in c \n",
    "\n",
    "- In C \"there is no such thing as types\", all a computer can understand is 1s and 0s. \n",
    "    - we treat sequences of bits to form numbers in base 2\n",
    "    - we have to consider the size of variables in bits"
   ]
  },
  {
   "cell_type": "markdown",
   "metadata": {},
   "source": [
    "## CodeAcedemy Notes\n",
    "#### C Variables:\n",
    "- C is procedural and doesn't support object oriented functionality\n",
    "- In C you cannot simply change the data type of a variable\n",
    "- In C a float is a number with 6 possible decimals while a double is a number with 15 possible decimal points \n",
    "    - (doubles run faster but take up more memory 8bytes vs 4 bytes)\n",
    "    - interestingly the compiler is rounding your figures either way so **whenever accuracy of the figure is important doubles are used**\n",
    "- When inserting a variable into a formatted string, the insertion symbol is dependent on the data type of the variable you're inserting \n",
    "    * if you are inserting a int => %d or %i\n",
    "    * if you are inserting a double or float => %f\n",
    "    * if you are inserting a char => %c\n",
    "\n",
    "    ex. where rate = 15.24; printf(\"My interest rate on my credit card isn't so bad, its only %f%\", rate)\n",
    "- if you want a variable to be immutable you can specify it as a constant during declaration like so:\n",
    "    - const int DAYSINWEEK = 7; (it is best practice to declare constants in all caps)\n",
    "- you can **convert a variable or cast a type** from another type either implicitly or explicitly\n",
    "    - implicitly:(dangerous as this is not always possible depending on variable types)\n",
    "\n",
    "            int a;\n",
    "            double b = 3.0;\n",
    "            a=b;\n",
    "    - explicitly: (where you simply tell the compiler the data type you would like to set it to)\n",
    "\n",
    "            int a;\n",
    "            double b = 3.4;\n",
    "            a=(int)b; (where a would be represented as 3)\n"
   ]
  }
 ],
 "metadata": {
  "language_info": {
   "name": "python"
  }
 },
 "nbformat": 4,
 "nbformat_minor": 2
}
