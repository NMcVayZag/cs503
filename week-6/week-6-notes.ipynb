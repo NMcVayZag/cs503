{
 "cells": [
  {
   "cell_type": "markdown",
   "metadata": {},
   "source": [
    "# Week 6 lecture notes (2/13/25) Unit Testing + Threads & Pipelines\n",
    "- the dsh_cli needs no code changes\n",
    "- all code implementation is in the lib file.\n"
   ]
  },
  {
   "cell_type": "markdown",
   "metadata": {},
   "source": [
    "### unit tests\n",
    "#! = is a \"shabang-line comment\" with a path to some executable which defines were the shell should be run\n",
    "- good test naming should describe the test and what it is looking for.\n",
    "    ex:\n",
    "    @test \"pwd should return 0\" {\n",
    "        run pwd\n",
    "        [\"$status\" -eq 0] # anything in bats surounded by [] is an assertion and must resolve to true or will error.\n",
    "    }\n",
    "    - status is a variable that is populated by bats tests that contain the output of your \"run\" command\n",
    "    - testing that status is equal to zero\n",
    "    - all assertions in a test must be true for the test to pass.\n",
    "- to print a variable or string in a test use the \"echo\" method.\n",
    "- in vats $output should contain the output of your script via the call made by \"run some-command\"\n",
    "- when creating unit tests for asserting the string output of a command it is best practice to strip the whitespace from the output and use that for the assertion just to allow for easier matching and preventing tests from failing with whitespace.\n",
    "    - ex. stripped_output = $(echo \"$output\" | tr -d '[:space:]')\n",
    "- commands that read from stdin can be provided multi-line input using a \"heredoc\" whihc is the same way in which yoy can test a \"run\" of 'dsh'\n",
    "    ex. run tee <<FOO\n",
    "        hello,\n",
    "        world\n",
    "        FOO # runs this multi-line command => run till you hit \"FOO\"\n",
    "    ex2. run ./dsh <<EOF \n",
    "    - common unit testing use of a heredoc where it is run until hitting EOF\n",
    "- You should create tests first with criteria for passing, see them fail and then write your code until they pass"
   ]
  },
  {
   "cell_type": "markdown",
   "metadata": {},
   "source": [
    "### Threads\n",
    "- a thread => a lightweight thread that shares proccess address space but has an isolated stack\n",
    "    - benefits: lightweight, process isolation, shared address space\n",
    "    - shared virtual memmory (heap,data,text), stack is not shared (holds execution context.(task struct))\n",
    "- synchronization is the practice of managing access to resources amongst multiple threads\n",
    "    - the MIGHTY Mutex => ensures mutually exclusive access - only one thread at a time. Write and read saftey implemented like a \"lock\" on shared memory(heap, globals, static)\n",
    "        - when a thread successfully \"locks\" a mutex or gets access, it \"owns\" the mutex until it unlocks it so other threads can access\n",
    "        - technically a mutex is a kind of semaphore\n",
    "    - The SEMAPHORE=> a gatekeeper that only allows N number of threads to perform some operation at the same time - allows max amount of threads to perform a certain action\n",
    "        - an example of this is a connection pool which is max amount of concurrent connections to a database.\n",
    "        - acts as a counting mechanism to manage numbner of threads processing concurrently - doesn't prevent race conditions within the critical section unless additional synchronization is used (a mutex or lock)\n",
    "- when working with multiple threads the \"pthread_join(thread, NULL)\" will stop the main process and wait for the child proccess to finish -> then continue with the main thread\n",
    "    - if you spawn multiple children you must loop through them checking of if the are complete with a \"join()\"\n",
    "\n"
   ]
  }
 ],
 "metadata": {
  "language_info": {
   "name": "python"
  }
 },
 "nbformat": 4,
 "nbformat_minor": 2
}
