{
 "cells": [
  {
   "cell_type": "markdown",
   "metadata": {},
   "source": [
    "# Week 6 lecture notes (2/13/25) Unit Testing\n"
   ]
  },
  {
   "cell_type": "markdown",
   "metadata": {},
   "source": [
    "#! = is a shabang-line comment with a path to some executable which defines were the shell should be run\n",
    "- good test naming should describe the test and what it is looking for.\n",
    "    ex:\n",
    "    @test \"pwd should return 0\" {\n",
    "        run pwd\n",
    "        [\"$status\" -eq 0] # anything in bats surounded by [] is an assertion and must resolve to true or will error.\n",
    "    }\n",
    "- to print a variable or string in a test use the \"echo\" method.\n",
    "- in vats $output should contain the output of your script via the call made by \"run some-command\"\n",
    "\n"
   ]
  }
 ],
 "metadata": {
  "language_info": {
   "name": "python"
  }
 },
 "nbformat": 4,
 "nbformat_minor": 2
}
