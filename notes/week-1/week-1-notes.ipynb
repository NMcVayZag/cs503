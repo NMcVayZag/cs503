{
 "cells": [
  {
   "cell_type": "markdown",
   "metadata": {},
   "source": [
    "## CS 503 Notes 1/6/25\n",
    "\n",
    "\n"
   ]
  },
  {
   "cell_type": "markdown",
   "metadata": {},
   "source": [
    "- Focused in learning about the layer that application software layer interacts with - the operating system interaction layer. The systems interface layer above the OS that interacts with application code \n",
    "- No midterms or finals just hw and quizes(5)\n",
    "- use orbstack"
   ]
  },
  {
   "cell_type": "markdown",
   "metadata": {},
   "source": [
    "- hardware(bare metal) -> operating system(linux) -> systems programming(our focus) -> application programming\n",
    "- c++ dominates most system programming cases, rust use is growing rapidly\n",
    "- we are learning c because c++ changes to rapidly(syntax) while c is stable and is the backbone of systems programming. Also anything you can do in c++ can be done in c \n",
    "\n",
    "- In C there is no such thing as types, all a computer can understand is 1s and 0s. \n",
    "    - we treat sequences of bits to form numbers in base 2\n",
    "    - we have to consider the size of variables in bits"
   ]
  },
  {
   "cell_type": "markdown",
   "metadata": {},
   "source": []
  }
 ],
 "metadata": {
  "language_info": {
   "name": "python"
  }
 },
 "nbformat": 4,
 "nbformat_minor": 2
}
