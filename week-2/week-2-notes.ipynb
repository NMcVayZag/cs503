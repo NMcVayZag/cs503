{
 "cells": [
  {
   "cell_type": "markdown",
   "metadata": {},
   "source": [
    "## CS 503 Lecture 1/13/25"
   ]
  },
  {
   "cell_type": "markdown",
   "metadata": {},
   "source": [
    "- int main() - the entrypoint of the program \n",
    "\n",
    "- to compile C code is taking \"portable\" C code using a modern compiler(STACK ex.(gcc)) to created an arch-specific executable ELF file\n",
    "    * compiling produces \"proccessed\" C file -> assmebly -> object file -> ELF File\n",
    "    * going from object file to ELF file is called \"linking\"\n",
    "- Your compiler will compile machine code that is unique to the specs and state of your machine.\n",
    "- A compiler will make intermediate and assembler forms of your original C file that breaks down what is added to the file to make it executable\n",
    "- 2's complement=>  a way of representing pos,negative numbers in binary that simplifies storage and arithmetic\n",
    "    * if the first digit is zero its positive, if its 1 then you take the expression and invert it and add one to the end of it\n",
    "- A byte(not the type) == 8 bits ; 5 in decimal can be represented in one byte\n",
    "- type => just a name a programming language gives to some number of bytes\n",
    "    - when a type has more than one byte, the order of those bytes matter! significance based on endianess\n",
    "    - the most significant byte is the first byte in big endian whereas in little endian(most common) the most significant byte is on the farthest right or last.\n",
    "    - Endianess often matters in data transmission and storage, think about how your data might be sourced and its byte order\n",
    "- there are no types; only bits ; for example a 32-bit system will make a long type in 4 bytes whereas 64-bit systems will make a long out of 8 bits\n",
    "- libc => \n",
    "    * is an implementation of a standard lib (c std lib)\n",
    "    * a helpful abstraction / utility layer containing a lot of mundane functions like making \"syscalls\" \n",
    "    * useful, but we'll go deeper  (we will eventually be challenged to write/execute code without it)\n",
    "- a string doesn't exist in C, its an array of chars\n",
    "    - const char *str = \"Hello\";\n",
    "- Userspace vs. kernelspace\n",
    "    * userspace is safely isolated from the kernelspace and consists of the c code, libc \n",
    "    * kernelspace - is like the super admin containing where syscalls occur and the linux kernel\n",
    "\n",
    "\n"
   ]
  },
  {
   "cell_type": "markdown",
   "metadata": {},
   "source": [
    "#### LINUX Command Line Basics\n",
    "\n",
    "- opening a linux terminal even through an orbstack VM(ubuntu) will place you in the current users home directory (ex. /home/nickmcvay)\n",
    "\n",
    "- \"pwd\" => prints working directory\n",
    "- \"cd ..\" will go back one directory and \"cd \" will bring you back to users home directory\n",
    "- \"touch pogg.txt\" will create a file in the cwd called \"pogg.txt\"\n",
    "- \"nano pogg.txt\" will open the file in a in-terminal editor, hit control x to save and quit\n",
    "- \"cat pogg.txt\" will read the file contents to the terminal\n",
    "- To install gcc compiler on your ubuntu linux machine:\n",
    "    > \"sudo apt update\"\n",
    "    >> \"sudo apt install build-essential\"\n",
    "- \"gcc example_file.c -o hello_world\" to compile your example C file into a executable file in the cwd named \"hello_world\"\n",
    "- \"./hello_world\" to run that C file \n",
    "    \n",
    "\n",
    "\n"
   ]
  }
 ],
 "metadata": {
  "language_info": {
   "name": "python"
  }
 },
 "nbformat": 4,
 "nbformat_minor": 2
}
