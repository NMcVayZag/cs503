{
 "cells": [
  {
   "cell_type": "markdown",
   "metadata": {},
   "source": [
    "# CS 503 lecture Notes(1/23/25) \n",
    "## Digging into Syscalls\n"
   ]
  },
  {
   "cell_type": "markdown",
   "metadata": {},
   "source": [
    "- Syscall\n",
    "    - they are an architecture-specific way for your program to ask the OS to do something priviledged\n",
    "    - Think of the OS as a gatekeeper to priviledged operations that only the kernel can do\n",
    "    -implicit vs explicit syscalls:\n",
    "        - many syscalls are required to run any executable, even if it doesn't make any calls of its own(implicit)\n",
    "            - ex. your shell and OS have to make syscalls to load, run, and exit a program\n",
    "            - gcc include libc startup/teardown code\n",
    "            - you can explicitly invoke syscalls to operate in kernelspace from your program\n"
   ]
  }
 ],
 "metadata": {
  "language_info": {
   "name": "python"
  }
 },
 "nbformat": 4,
 "nbformat_minor": 2
}
