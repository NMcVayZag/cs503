{
 "cells": [
  {
   "cell_type": "markdown",
   "metadata": {},
   "source": [
    "# Week 4 Lecture Notes (1/27/25)\n",
    "## Files & File Systems \n",
    "- hw is making our own C based database!\n",
    "    - header is where you define types or config defines\n",
    "    - Look for M_NOT_IMPL in the c file to see the functions you need to build out(add student, delete student, )\n",
    "    - on deletion while accessing a file your not actually deleting it in real time, you're just marking it for deletion (just fill with 0's)\n",
    "    - he will be putting out a mini lecture on compression regarding the extra credit\n"
   ]
  },
  {
   "cell_type": "markdown",
   "metadata": {},
   "source": [
    "- In linux systems everything is a \"file\" including your monitor and keyboard\n",
    "    - files are essentially just 1's and 0's\n",
    "- \"Files\" are heavily abstracted in operating systems to make them easier to be used and managed (they are 1's and 0's)\n",
    "\n",
    "- All filesystems define how data is represented and accessed by the operating system.\n",
    "- there are generic purpose filesystems (ext4) and specical purpose tailored filesystems(like performance or recovery)\n",
    "- All OS Filesystems are virutalized/abstracted meaning that the presented structure is not the actual structure of the filesystem\n",
    "    - things may be on psysical disk and some things on RAM that have to be access by the kernel to be made available in one place on the OS like your directory home.\n",
    "- Linux File types:\n",
    "    - dr: directory \n",
    "    - -: regular file => typical text file\n",
    "    - b: block file => works in blocks\n",
    "    - c: character device file => work on one character at a time\n",
    "\n",
    "    - p: **Pipe file** => first in first out pipe. FIFO STREAM\n",
    "\n",
    "    - l: Symbolic link => acts as a pointer to a differnt file. can be used to copy one file to another place and they all reference the same file\n",
    "\n",
    "    - s: **Socket file** => one-way pair of serial streams (two one-way pipes for reading and writing through the \"socket\")\n",
    "- Linux Filesystem Security/Permissions \n",
    "    - in the descriptor of the file you can find the file type, user permissions(most permissive), group permissions, everyone permissions(least permissive)\n"
   ]
  },
  {
   "cell_type": "markdown",
   "metadata": {},
   "source": [
    "#### Linux Filesystem\n",
    "- bin => serves as a applications folder for all software you install like python3 or packages you download with homebrew\n",
    "- mnt => where virtual machines and virutal disc is mounte\n",
    "- proc => proc contains things that are in-memory(RAM) and is being displayed by filesystem. They are CPU displays of the current processes\n",
    "- dev => device folder contains all these files that represent your hardware( you could have a file representing your keyboard) \n",
    "    - calling tty in terminal will return directory of your current terminal file\n",
    "- will not have to alter these files but will be checking these directories to check our syscall impacts!\n",
    "### Linux file systems: I/O models\n",
    "- linux file access(syscalls and libc wrappers)\n",
    "    - how to open a file\n",
    "        - Linux: open\n",
    "        - Libc: fopen\n",
    "    - how to read a file\n",
    "        - Linux: read\n",
    "        - Libc: fread\n",
    "    - when operating with a system call (linux) you deal with linux file descriptors that are represented as integers\n",
    "        - opertating with libc will give you a \"type\" not int that includes metadata\n",
    "    - libc is more portable & efficient as it abstracts the differences in architecture of system whereas linux syscalls are more specific and less efficient \n",
    "    - File Descriptors are just opaque handles -think \"tickets\"\n",
    "- linux file access - streams\n",
    "    - both syscalls and stdlib have stream abstractions to access file data."
   ]
  },
  {
   "cell_type": "markdown",
   "metadata": {},
   "source": [
    "- you can prefix your compiling command with \"time\" to track and print run time\n",
    "- can preface strace to prefix the run process to show all syscalls and details \n",
    "- increasing the size of your buffers can drastically reduce the time a process can take through having to make less syscalls\n",
    "- libc will internally batch the sycall processes to further improve efficiency => libc is more efficient and portable \n",
    "    - Even with reading and writing at a byte size of 8 - it will batch them at 4096bytes at a time\n",
    "    - basic direct syscalls will simply make each call with size of 8 bytes\n",
    "    - manual direct syscalls are used when you need very precise control such as device drivers\n",
    "\n",
    "## Memory Map Files(approach)\n",
    "- Memory maped files allow you to directly read and write data in mulitple files via using file system interface abstraction\n",
    "- constant reading and writing of files would be ideal for memory mapped files"
   ]
  },
  {
   "cell_type": "markdown",
   "metadata": {},
   "source": [
    "## Additonal Lecture (1/29/25) On Week 4 Assignment -Student Database"
   ]
  },
  {
   "cell_type": "markdown",
   "metadata": {},
   "source": []
  }
 ],
 "metadata": {
  "language_info": {
   "name": "python"
  }
 },
 "nbformat": 4,
 "nbformat_minor": 2
}
